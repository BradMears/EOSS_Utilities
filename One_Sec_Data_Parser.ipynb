{
 "cells": [
  {
   "cell_type": "code",
   "execution_count": 3,
   "id": "97f0b313",
   "metadata": {},
   "outputs": [],
   "source": [
    "import pandas as pd"
   ]
  },
  {
   "cell_type": "code",
   "execution_count": 41,
   "id": "5753c524",
   "metadata": {},
   "outputs": [
    {
     "name": "stdout",
     "output_type": "stream",
     "text": [
      "Enter name of 1 Sec data file:\n",
      "290/EOSS-290 KC0D-1 GPSL 2019 1-sec-data.xlsx\n",
      "          Fix  Sats  Flags  Baro_Pressure  Baro_altitude  GPS_altitude  \\\n",
      "Time                                                                     \n",
      "12:36:07    3     8      1          975.1         1056.9         827.7   \n",
      "12:36:08    3     8      1          975.2         1054.8         828.3   \n",
      "12:36:09    3     8      1          975.2         1053.6         828.9   \n",
      "12:36:10    3     8      1          975.3         1052.8         829.3   \n",
      "12:36:11    3     8      1          975.3         1052.9         828.8   \n",
      "...       ...   ...    ...            ...            ...           ...   \n",
      "16:02:15    3    12      3          975.4         1050.6         880.8   \n",
      "16:02:19    3    12      3          975.3         1051.8         880.9   \n",
      "16:02:20    3    12      3          975.4         1048.9         880.9   \n",
      "16:02:21    3    12      3          975.4         1048.4         880.8   \n",
      "16:02:22    3    12      3          975.3         1050.9         880.9   \n",
      "\n",
      "          Speed (MPH)  Heading  Horiz_accuracy  Vertical_accuracy  pDOP  \\\n",
      "Time                                                                      \n",
      "12:36:07          0.1      257               7                 14  2.10   \n",
      "12:36:08          0.0      257               7                 14  2.10   \n",
      "12:36:09          0.1      257               7                 14  2.10   \n",
      "12:36:10          0.1      257               7                 14  2.10   \n",
      "12:36:11          0.1      257               7                 14  2.10   \n",
      "...               ...      ...             ...                ...   ...   \n",
      "16:02:15          0.0      344               4                 10  1.62   \n",
      "16:02:19          0.1      344               4                 10  1.62   \n",
      "16:02:20          0.0      344               4                 10  1.62   \n",
      "16:02:21          0.1      344               4                 10  1.62   \n",
      "16:02:22          0.1      344               4                 10  1.62   \n",
      "\n",
      "           Latitude  Longitude  Int_Temp F  battery_v  \n",
      "Time                                                   \n",
      "12:36:07  41.394320 -92.888915        83.0       8.06  \n",
      "12:36:08  41.394320 -92.888915        83.0       8.12  \n",
      "12:36:09  41.394323 -92.888915        83.0       8.12  \n",
      "12:36:10  41.394323 -92.888915        83.0       8.30  \n",
      "12:36:11  41.394323 -92.888915        83.0       8.30  \n",
      "...             ...        ...         ...        ...  \n",
      "16:02:15  41.527075 -92.467917        83.2       7.67  \n",
      "16:02:19  41.527075 -92.467917        83.3       7.67  \n",
      "16:02:20  41.527075 -92.467917        83.3       7.67  \n",
      "16:02:21  41.527075 -92.467917        83.3       7.67  \n",
      "16:02:22  41.527075 -92.467917        83.3       7.66  \n",
      "\n",
      "[12187 rows x 15 columns]\n"
     ]
    }
   ],
   "source": [
    "print('Enter name of 1 Sec data file:', sep='')\n",
    "filename = input()\n",
    "one_sec = pd.read_excel(filename, index_col=0) \n",
    "print(one_sec)"
   ]
  },
  {
   "cell_type": "code",
   "execution_count": 32,
   "id": "212b2ae3",
   "metadata": {},
   "outputs": [],
   "source": [
    "def find_launch_temperature(df):\n",
    "    '''Returns the index of the approximate launch time based on GPS altitude.'''\n",
    "    alt_col = 'GPS_altitude'\n",
    "    \n",
    "    # The altitude jumps around a bit on the ground but an average of the first \n",
    "    # five minutes should be pretty close. It might be sitting on a table or in\n",
    "    # the back of somebody's truck during this time but that won't throw if off \n",
    "    # too much.\n",
    "    avg_alt_on_ground = one_sec[alt_col][0:300].mean()\n",
    "    \n",
    "    # Find the first moment when the altitude is significantly higher than ground level.\n",
    "    # How high is significant? There might be a clever way to determine that but for\n",
    "    # now we'll use an arbitrary magic number: 50 feet.\n",
    "    idx = df.index[df[alt_col] > (avg_alt_on_ground + 50)][0]\n",
    "    return idx"
   ]
  },
  {
   "cell_type": "code",
   "execution_count": 42,
   "id": "8abd8a1f",
   "metadata": {},
   "outputs": [
    {
     "name": "stdout",
     "output_type": "stream",
     "text": [
      "Max altitude = 100556.4 at time 14:50:31\n",
      "Launch happened at approximately 12:43:02\n",
      "No temperature data found\n"
     ]
    }
   ],
   "source": [
    "#print(one_sec.columns)\n",
    "alt_col = 'GPS_altitude'\n",
    "temperature_col = 'Baro Temp F'\n",
    "\n",
    "print(f'Max altitude = {one_sec[alt_col].max()} at time {one_sec[alt_col].idxmax()}')\n",
    "\n",
    "launch_time = find_launch_temperature(one_sec)\n",
    "print(f'Launch happened at approximately {launch_time}')\n",
    "try:\n",
    "    launch_temp = one_sec[launch_time][temperature1_col]\n",
    "    print(f'Temperature at launch = {launch_temp}')\n",
    "except:\n",
    "    print('No temperature data found')\n",
    "    # We could use the Internal Temperature as a fallback but I'm not sure how\n",
    "    # close that is to the external temperature. That's something to look into."
   ]
  }
 ],
 "metadata": {
  "kernelspec": {
   "display_name": "Python 3",
   "language": "python",
   "name": "python3"
  },
  "language_info": {
   "codemirror_mode": {
    "name": "ipython",
    "version": 3
   },
   "file_extension": ".py",
   "mimetype": "text/x-python",
   "name": "python",
   "nbconvert_exporter": "python",
   "pygments_lexer": "ipython3",
   "version": "3.8.8"
  }
 },
 "nbformat": 4,
 "nbformat_minor": 5
}
